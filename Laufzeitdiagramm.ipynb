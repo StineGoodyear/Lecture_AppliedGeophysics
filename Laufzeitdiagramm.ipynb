{
 "cells": [
  {
   "cell_type": "markdown",
   "metadata": {},
   "source": [
    "## Laufzeitdiagramm\n",
    "Das folgende Skript berechnet das Laufzeitdiagramm für eine vorgegebene Geschwindigkeitstiefenverteilung. Das voreingestelle Modell entspricht etwa der Situation, die wir auf dem Campus in Lankwitz vorfinden. \n",
    "\n",
    "## Model Setup\n",
    "In der ersten Zelle werden die seismischen Geschwindigkeiten des Modells definiert. \n",
    "Ändern Sie die Werte zur Beantwortung der Fragen in Aufgabe 1b) und 1c). Nach jeder Änderung muss die erste Zelle erneut ausgeführt werden bevor Sie die zweite Zelle ausführen, in der die Laufzeitkurven berechnet werden."
   ]
  },
  {
   "cell_type": "code",
   "execution_count": null,
   "metadata": {},
   "outputs": [],
   "source": [
    "# Geben Sie die Geschwindigkeit der ersten Schicht ein:\n",
    "v1 = 350 # m/s\n",
    "# Geben Sie die Geschwindigkeit der zweiten Schicht ein:\n",
    "v2 = 1800 # m/s\n",
    "# Geben Sie die Schichmächtigkeit ein:\n",
    "d = 7 # m\n",
    "\n",
    "print('Führen Sie die nächste Zelle aus!')"
   ]
  },
  {
   "cell_type": "markdown",
   "metadata": {},
   "source": [
    "### Laufzeitdiagramm\n",
    "\n",
    "Die folgende Zelle berechnet für das oben definierte Modell das Laufzeitdiagramm.\n"
   ]
  },
  {
   "cell_type": "code",
   "execution_count": null,
   "metadata": {},
   "outputs": [],
   "source": [
    "## Hier nichts verändern !\n",
    "\n",
    "import numpy as np\n",
    "import matplotlib.pyplot as plt\n",
    "\n",
    "# Define Model\n",
    "\n",
    "z = np.array([0,7]) # Tiefe in m\n",
    "v = np.array([350,1800]) # Geschwindigkeit in [m/s]\n",
    "\n",
    "rec_num=24 # Anzahl Empfänger\n",
    "dx=2 # Empfängerabstand in m\n",
    "\n",
    "# Compute Traveltimes\n",
    "\n",
    "if v[0] > v[1]:\n",
    "    alpha_krit=0\n",
    "    x_crit=0\n",
    "    r_crit=0\n",
    "    x_ue=0\n",
    "\n",
    "else:\n",
    "    alpha_krit = np.arcsin(v[0]/v[1])*180/np.pi\n",
    "    x_crit = np.tan(np.deg2rad(alpha_krit))*z[1]\n",
    "    r_crit = np.sqrt((x_crit**2) + z[1]**2)\n",
    "    x_ue = 2*z[1]*np.sqrt((v[0]+v[1])/(v[1]-v[0]))\n",
    "x_max=(rec_num)*dx\n",
    "inc=np.intc(x_max/dx)+1   \n",
    "x_vec = np.linspace(0,x_max,inc)\n",
    "direct = np.zeros(len(x_vec))\n",
    "reflect = np.zeros(len(x_vec))\n",
    "refrac = np.zeros(len(x_vec))*np.NaN\n",
    "for idx,x in enumerate(x_vec):\n",
    "    direct[idx] = x/v[0]\n",
    "    reflect[idx] = 2*np.sqrt((x/2)**2 + z[1]**2)/v[0]\n",
    "    if x > x_crit*2:\n",
    "        refrac[idx] = 2*r_crit/v[0] + (x-2*x_crit)/v[1]   \n",
    "\n",
    "plt.figure(figsize=(10,5))\n",
    "plt.plot(x_vec,direct,'ks-',Markersize = 7,label='...........................')\n",
    "plt.plot(x_vec,reflect,'rs-',label='...........................')\n",
    "if v[0] < v[1]:\n",
    "    plt.plot(x_vec,refrac,'gs-',label='...........................')\n",
    "    plt.axvline(2*x_crit,Color='m',linestyle = '--',label='...........................')\n",
    "    plt.axvline(x_ue,Color='b',linestyle = '--',label='...........................')\n",
    "    print('Kritische Entfernung %.2fm \\nÜberholentfernung: %.2fm \\nKritischer Winkel: %.2f° \\n'%(2*x_crit,x_ue,alpha_krit))\n",
    "#plt.legend(loc = 0,prop={'size': 18})\n",
    "plt.legend(bbox_to_anchor=(1.05, 1.0), loc='upper left',prop={'size': 20})\n",
    "plt.tight_layout()\n",
    "plt.xlim([0,x_max+dx])\n",
    "plt.gca().invert_yaxis()\n",
    "plt.ylabel('T in s')\n",
    "plt.xlabel('Entfernung in m')\n",
    "plt.grid('on')\n",
    "plt.show()\n",
    "\n",
    "plt.figure(figsize=(10,4))\n",
    "mod = np.vstack((v[0]*np.ones([10,(rec_num+2)*dx]),v[1]*np.ones([10,(rec_num+2)*dx])))\n",
    "plt.pcolor(np.linspace(0,50,(rec_num+2)*dx),np.linspace(0,2*z[1],21),mod)\n",
    "plt.xlim([-1,50])\n",
    "plt.ylim([-.5,2*z[1]])\n",
    "cbar = plt.colorbar()\n",
    "cbar.set_label('Geschwindigkeit in m/s', rotation=90)\n",
    "cbar.ax.invert_yaxis()\n",
    "plt.gca().invert_yaxis()\n",
    "plt.plot(0,0,'r*',Markersize=18,label='Schusspunkt')\n",
    "plt.plot(np.arange(dx,rec_num*dx+1,dx),np.zeros(rec_num),'gv',Markersize=18,label = 'Geophone')\n",
    "plt.legend()\n",
    "plt.title('Aufnahmegeometrie')\n",
    "plt.ylabel('Tiefe in m')\n",
    "plt.xlabel('Profillänge in m')\n",
    "plt.show()"
   ]
  }
 ],
 "metadata": {
  "kernelspec": {
   "display_name": "Python 3",
   "language": "python",
   "name": "python3"
  },
  "language_info": {
   "codemirror_mode": {
    "name": "ipython",
    "version": 3
   },
   "file_extension": ".py",
   "mimetype": "text/x-python",
   "name": "python",
   "nbconvert_exporter": "python",
   "pygments_lexer": "ipython3",
   "version": "3.7.4"
  }
 },
 "nbformat": 4,
 "nbformat_minor": 2
}
