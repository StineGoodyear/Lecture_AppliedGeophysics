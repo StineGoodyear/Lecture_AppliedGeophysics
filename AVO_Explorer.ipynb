{
 "cells": [
  {
   "cell_type": "markdown",
   "id": "a884e63f",
   "metadata": {},
   "source": [
    "# AVO Explorer v2\n",
    "\n",
    "Interactive tool to explore AVO classes.\n",
    "2016, Alessandro Amato del Monte (alessandro.adm@gmail.com)\n",
    "\n",
    "https://github.com/aadm/avo_explorer/blob/master/avo_explorer_v2.ipynb\n",
    "\n",
    "Four functions are provided in the accompanying library avo_explorer_library:\n",
    "\n",
    "    make_avoclasses: to plot a reference chart with the AVO classes.\n",
    "    avomod1: to build AVO curves, synthetic gather and Intercept-Gradient crossplot for a half-space model.\n",
    "    avomod2: like above but for two different configurations for the lower medium (usually different fluids).\n",
    "    make_avo_explorer: builds on top avomod2 a simple selection to plot the reference AVO classes given by Hilterman (2001) for shale/brine sand scenarios and performs fluid replacement to make gas and oil sands.\n",
    "\n"
   ]
  },
  {
   "cell_type": "markdown",
   "id": "8050d5f9",
   "metadata": {},
   "source": [
    "Der AVO, die Variation des Reflexionskoeffizienten mit dem Einfallswinkel (bzw. dem Offset = Abstand zwischen Quelle und Empfänger) hängt von den Kontrasten der seismischen Geschwindigkeiten, der Dichte und des Poissonverhältnisses ab. \n",
    "Von der Instrustrie werden AVO Analysen zur Identifizierung von Kohlenwasserstoffreservoiren genutzt."
   ]
  },
  {
   "cell_type": "code",
   "execution_count": null,
   "id": "15d1ed2e",
   "metadata": {},
   "outputs": [],
   "source": [
    "from ipywidgets import interact, interactive, fixed\n",
    "from avo_explorer_library import make_avoclasses,avomod1,avomod2,make_avo_explorer\n",
    "\n",
    "%matplotlib inline\n",
    "%config InlineBackend.figure_format = 'retina'\n",
    "\n",
    "make_avoclasses()\n"
   ]
  },
  {
   "cell_type": "markdown",
   "id": "0a0a8427",
   "metadata": {},
   "source": [
    "In der folgenden Zelle können sie für ein einfachen Zweischichtfall Werte für die Geschwindigkeiten (P und S- Wellen) sowie für die Dichten der hjeweiligen Schicht angeben und sich den AVO-Verlauf anzeigen lassen."
   ]
  },
  {
   "cell_type": "code",
   "execution_count": null,
   "id": "722a406c",
   "metadata": {},
   "outputs": [],
   "source": [
    "vp1 = 2600\n",
    "vs1 = 1150\n",
    "rho1 = 2290\n",
    "\n",
    "vp2 = 3100\n",
    "vs2 = 1500\n",
    "rho2 = 2400\n",
    "\n",
    "avomod1(vp1,vs1,rho1/1000,vp2,vs2,rho2/1000,angmin=0, angmax = 30, polarity='normal',black = False,method = 'shuey')"
   ]
  },
  {
   "cell_type": "markdown",
   "id": "06155147",
   "metadata": {},
   "source": [
    "Wenn Sie die nächste Zelle ausführen können Sie die Schichtparameter interaktiv verändern."
   ]
  },
  {
   "cell_type": "code",
   "execution_count": null,
   "id": "788482de",
   "metadata": {},
   "outputs": [],
   "source": [
    "interact(make_avo_explorer,phimod=(-0.1,0.1,0.02),avoclass={'Class 1':1,'Class 2':2,'Class 3':3,'Class 4':4},fluid=['oil','gas'], continuous_update=False)"
   ]
  },
  {
   "cell_type": "code",
   "execution_count": null,
   "id": "c983bb31",
   "metadata": {},
   "outputs": [],
   "source": [
    "#interact(avomod1,vp1=(1500,6000,100),vp2=(1500,6000,100),vs1=(1000,3000,100),vs2=(1000,3000,100),rho1=(1.5,3.0,0.1),rho2=(1.5,3.0,0.1),method=['shuey','zoeppritz'], angmin=fixed(0), angmax=(30,60,10), polarity=['normal','reverse'], black=(False), continuous_update=False)"
   ]
  }
 ],
 "metadata": {
  "kernelspec": {
   "display_name": "Python 3 (ipykernel)",
   "language": "python",
   "name": "python3"
  },
  "language_info": {
   "codemirror_mode": {
    "name": "ipython",
    "version": 3
   },
   "file_extension": ".py",
   "mimetype": "text/x-python",
   "name": "python",
   "nbconvert_exporter": "python",
   "pygments_lexer": "ipython3",
   "version": "3.8.12"
  }
 },
 "nbformat": 4,
 "nbformat_minor": 5
}
