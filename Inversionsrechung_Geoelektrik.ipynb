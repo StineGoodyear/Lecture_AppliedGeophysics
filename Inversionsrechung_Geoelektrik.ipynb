{
 "cells": [
  {
   "cell_type": "markdown",
   "id": "dc67af62-de39-4dff-8ce2-3e69c384f8b6",
   "metadata": {},
   "source": [
    "## Inversion einer Sondierungskurve aus einer Gleichstromgeoelektrischen Sondierung\n",
    "\n",
    "Sie befinden sich in einem Jupyter Notebook. Dieses Notebook enthält Python Code, mit dem Sie eine Inversionsrechnung durchführen können, um aus einer Sondierungskurve ein Widerstands-Tiefen-Modell zu berechnen.\n",
    "\n",
    "Folgen Sie einfach den Schritt für Schritt Anweisungen!\n",
    "\n"
   ]
  },
  {
   "cell_type": "markdown",
   "id": "9494beba-1299-4b82-b19f-13473f1b1bd0",
   "metadata": {},
   "source": [
    "### Schritt 1:\n",
    "Geben Sie Ihre Messwerte in die folgende Code-Zelle ein. \n",
    "Ersetzen Sie dafür einfach die bereits eingetragenen Werte mit Ihren eigenen Werten. \n",
    "\n",
    "Hinweis: Dezimalstellen werden immer mit einem Punkt angegeben und die Werte innerhalb der eckigen Klammer werden mit einem Komma getrennt. \n",
    "\n",
    "### Schritt 2: \n",
    "Wenn Sie die Werte für $L/2$ und $\\rho_a$ eingetragen haben, führen Sie den Code in der Zelle aus, indem Sie in die Zelle hineinklicken, so dass sie aktiviert ist (das sehen Sie an dem farbigen Streifen links neben der Zelle) und drücken Sie entweder im Menü oben das Dreieck oder drücken `strg+enter`.\n",
    "\n"
   ]
  },
  {
   "cell_type": "code",
   "execution_count": null,
   "id": "4726cb41-2204-4ff5-84fb-4e8b499fa922",
   "metadata": {},
   "outputs": [],
   "source": [
    "%load_ext autoreload\n",
    "%autoreload 2\n",
    "\n",
    "'###############################################'\n",
    "'Geben Sie in diese Zelle Ihre Messwerte für \"rho_a\" und \"L_halbe\" ein:'\n",
    "'###############################################'\n",
    "\n",
    "# Abstand der Potentialsonden\n",
    "a = 1\n",
    "\n",
    "# halbe Auslagenlänge\n",
    "L_halbe = [1.6, 2, 3, 4.1, 4.22, 6.3, 8.1, 9, 11.3, 12.4, 14, 17.3, 25.8  ]\n",
    "\n",
    "# scheinbarer spezifischer Widerstand\n",
    "rho_a = [ 200.45, 200.45, 200.45,200.45,200.45,200.45,200.45,200.45,200.45,200.45,200.45,200.45,200.45 ]\n",
    "\n",
    "print('Fertig.')\n"
   ]
  },
  {
   "cell_type": "markdown",
   "id": "e3a7ef21-f963-40d9-b55c-50073aa8d1cd",
   "metadata": {},
   "source": [
    "### Schritt 3:\n",
    "Sie haben als Teil von Aufgabe 2d) die Sondierungskruve bereits grafisch dargestellt. \n",
    "Schätzen Sie aus der Kurve die Anzahl der möglichen Schichten ab sowie entsprechende Werte für den spezifischen Widerstand und der Schichtmächtigkeit jeder Schicht. \n",
    "\n",
    "__Beachten Sie__, dass wir für die unterste Schicht einen Halbraum annehmen. Aus diesem Grund wird für die Schichtmächtigkeit ein Wert weniger angegeben, als für den spezifisch elektrischen Widerstand.\n",
    "\n",
    "Ersetzen Sie die Werte in der Codezelle unten mit den Werten für Ihr Startmodell! Der erste Wert ist jeweils für die erste Schicht, der zweite für die zweite Schicht usw.. Sie können beliebig viele Schichten angeben, wenn Sie es für sinnvoll halten.\n",
    "\n"
   ]
  },
  {
   "cell_type": "code",
   "execution_count": null,
   "id": "e7b8ccb8-0ee8-45a9-951d-cdd55b53ac72",
   "metadata": {},
   "outputs": [],
   "source": [
    "'###############################################'\n",
    "'Geben Sie in diese Zelle Ihr Startmodell ein:'\n",
    "'###############################################'\n",
    "\n",
    "# Startmodell: \n",
    "# (Achtung: die unterste Schicht wird als Halbraum betrachtet, \n",
    "# deshalb muss für die Schichtmächtigkeit ein Wert weniger angegeben werden,\n",
    "# als für den spez. elektr. Widerstand)\n",
    "\n",
    "# spezifisch elektrischer Widerstand \n",
    "rho_start = [ 200, 400, 50,20]; \n",
    "\n",
    "# Schichtmächtigkeit\n",
    "d_start = [1,2,6]; \n",
    "\n",
    "print('Fertig!')"
   ]
  },
  {
   "cell_type": "markdown",
   "id": "07d528ef-a1cf-4b4c-ba6a-0189f0652274",
   "metadata": {},
   "source": [
    "### Schritt 4:\n",
    "\n",
    "Führen Sie die nächste Zelle aus, um das Inversionsergebnis zu erhalten.\n",
    "\n",
    "Es werden folgende Abbildungen erstellt:\n",
    "\n",
    "1. Ihr Startmodell\n",
    "2. Ihre Sondierungskurve (blau) mit dem Ergebnis der Vorwärtsrechnung aus dem Startmodell (rot, synthetische Daten).\n",
    "3. Das Inversionsergebnis als Best-Fit-Modell\n",
    "4. Ihre Sondierungskurve (blau) mit dem Ergebnis der Vorwärtsrechnung des Best-Fit-Modells (rot, synthetische Daten).\n",
    "5. Das Best-Fit-Modell (rot) mit Äquivalenzmodellen.\n",
    "\n",
    "<small>Es werden pro Iteration 500 Modelle getestet. Für das Best-Fit Modell werden 10 Äquivalenzmodelle berechnet. \n",
    "Der Code, mit dem die Inversionrechnung durchgeführt wird, bedindet sich in dem Python-Script 'Inversion.py', das Sie in dem gleiche Ordner finden, wie dises Notebook. </small>\n",
    "\n",
    "### Schritt 5: \n",
    "Falls die die Anpassung der Modellkurve an Ihre Daten starke Abweichungen zeigt, ändern Sie bitte Ihr Startmodell und führen Sie die Inversionsrechung erneut aus. Denken Sie daran, die Zelle in Schritt 3 nach der Anpassung des Startmodells erneut auszuführen bevor Sie die Inversionsrechung starten.\n",
    "\n",
    "Wenn Sie mit diesem Jupyter Notebook Probleme haben, melden Sie sich bitte per E-Mail bei mir stine@geophysik.fu-berlin.de.\n",
    "Melden Sie sich bitte auch, wenn es Verständnisfragen gibt oder Sie mit der Anleitung Probleme haben.\n",
    "\n",
    "    \n"
   ]
  },
  {
   "cell_type": "code",
   "execution_count": null,
   "id": "e3bb1739-c95b-4abd-97f1-0ab2744255c5",
   "metadata": {},
   "outputs": [],
   "source": [
    "from Inversion import get_inversion_result\n",
    "\n",
    "get_inversion_result(a, L_halbe, rho_a, rho_start, d_start)\n"
   ]
  }
 ],
 "metadata": {
  "kernelspec": {
   "display_name": "Python 3 (ipykernel)",
   "language": "python",
   "name": "python3"
  },
  "language_info": {
   "codemirror_mode": {
    "name": "ipython",
    "version": 3
   },
   "file_extension": ".py",
   "mimetype": "text/x-python",
   "name": "python",
   "nbconvert_exporter": "python",
   "pygments_lexer": "ipython3",
   "version": "3.8.19"
  }
 },
 "nbformat": 4,
 "nbformat_minor": 5
}
